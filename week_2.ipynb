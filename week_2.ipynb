{
 "cells": [
  {
   "cell_type": "markdown",
   "metadata": {},
   "source": [
    "### Discrete Random Variables"
   ]
  },
  {
   "cell_type": "markdown",
   "metadata": {},
   "source": [
    "**Definition.** The **cumulative distribution function** (CDF), $F(\\cdot)$, of a random variable, $X,$ is defined by\n",
    "\n",
    "$$F(x):= \\mathbb{P}(X\\le x).$$"
   ]
  },
  {
   "cell_type": "markdown",
   "metadata": {},
   "source": [
    "**Definition.** A discrete random variable, $X$, has **probability mass function** (PMF), $p(\\cdot)$, if $p(x)\\ge 0$ and for all events $A$ we have\n",
    "\n",
    "$$\\mathbb{P}(X\\in A)=\\sum_{x\\in A}p(x).$$"
   ]
  },
  {
   "cell_type": "markdown",
   "metadata": {},
   "source": [
    "**Definition.** The **expected value** of a discrete random variable, $X$, is given by\n",
    "\n",
    "$$\\mathbb{E}[X]:= \\sum_i x_i p(x_i).$$"
   ]
  },
  {
   "cell_type": "markdown",
   "metadata": {},
   "source": [
    "**Definition.** The **variance** of any random variable, $X$, is defined as\n",
    "\n",
    "\\begin{aligned}\n",
    "\\text{Var}(X) &:=  \\mathbb{E}[(X-\\mathbb{E}[X])^2]\\\\\n",
    "&= \\mathbb{E}[X^2]-\\mathbb{E}[X]^2.\n",
    "\\end{aligned}"
   ]
  },
  {
   "cell_type": "markdown",
   "metadata": {},
   "source": [
    "### The Binomial Distribution\n",
    "\n",
    "We say $X$ has a binomial distribution, or $X \\sim \\text{Bin} (n,p)$, if\n",
    "\n",
    "$$\\mathbb{P}(X=r)=\\binom{n}{r}p^r{(1-p)}^{n-r}.$$\n",
    "\n",
    "For example, $X$ might represent the number of heads in $n$ independent coin tosses, where $p= \\mathbb{P} (\\text{head})$. The mean and variance of the binomial distribution satisfy\n",
    "\n",
    "\\begin{aligned}\n",
    "\\mathbb{E}[X] &= np \\\\\n",
    "\\text{Var}(X) &= np(1-p). \\\\\n",
    "\\end{aligned}"
   ]
  }
 ],
 "metadata": {
  "language_info": {
   "name": "python"
  }
 },
 "nbformat": 4,
 "nbformat_minor": 2
}
