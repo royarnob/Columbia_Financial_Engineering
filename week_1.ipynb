{
 "cells": [
  {
   "attachments": {},
   "cell_type": "markdown",
   "metadata": {},
   "source": [
    "### Course Overview\n",
    "\n",
    "#### Course Introduction - Introduction to Financial Engineering and Risk Management\n",
    "\n",
    "#### Financial Engineering and Risk Management Specialization\n",
    "\n",
    "**Introduction to Financial Engineering and Risk Management** and **Term-Structure and Credit Derivatives** will be on the use of simple stochastic models to price derivative securities in various asset classes including equities, fixed income, credit, and mortgage-backed securities.\n",
    "\n",
    "**Optimization Methods in Asset Management** and **Advanced Topics in Derivative Pricing** will continue to develop derivatives pricing models.\n",
    "\n",
    "**Computational Methods in Pricing and Model Calibration** focuses on model calibration, option pricing, and interest rate instruments.\n",
    "\n",
    "The series of Financial Engineering and Risk Management Specialization:\n",
    "\n",
    "- Introduction to Financial Engineering and Risk Management\n",
    "- Term-Structure and Credit Derivatives\n",
    "- Optimization Methods in Asset Management\n",
    "- Advanced Topics in Derivative Pricing\n",
    "- Computational Methods in Pricing and Model Calibration\n",
    "\n",
    "Overarching topics:\n",
    "- Derivative pricing (stochastic models, binomial tree, term structure)\n",
    "- Asset allocation (CAPM, mean-variance analysis)\n",
    "- Other topics (algorithmic trading; commodity and energy market; credit derivatives)\n",
    "- Interview with Professor Emanuel Derman\n"
   ]
  },
  {
   "attachments": {},
   "cell_type": "markdown",
   "metadata": {},
   "source": [
    "### **Financial Engineering and Risk Managment**\n",
    "#### Course Overview"
   ]
  },
  {
   "attachments": {},
   "cell_type": "markdown",
   "metadata": {},
   "source": [
    "#### **Why financial markets?**\n",
    "\n",
    "Financial markets enable efficient allocation of resources\n",
    "- across **time**\n",
    "- across **states of nature**\n",
    "\n",
    "Young worker with a high salary. What should she do?\n",
    "- Financial markets: invest in stocks and bonds to finance **retirement, home ownership, education,** etc.\n",
    "- No financial markets: consumption? what else?\n",
    "\n",
    "Farmer producing oranges.\n",
    "- Financial markets: Hedge using **futures** markets, weather related **derivatives.**\n",
    "- No financial markets: only the spot market available."
   ]
  },
  {
   "attachments": {},
   "cell_type": "markdown",
   "metadata": {},
   "source": []
  }
 ],
 "metadata": {
  "language_info": {
   "name": "python"
  },
  "orig_nbformat": 4
 },
 "nbformat": 4,
 "nbformat_minor": 2
}
